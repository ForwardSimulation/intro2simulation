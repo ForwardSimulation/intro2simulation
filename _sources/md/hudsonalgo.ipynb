{
 "cells": [
  {
   "cell_type": "markdown",
   "id": "expected-surge",
   "metadata": {},
   "source": [
    "# Hudson's linear-time simulation algorithm.\n",
    "\n",
    "In a 1990, Dick Hudson published the C code for a linear time algorithm to simulate gene genealogies under the Kingman coalescent {cite}`Hudson1990-ff`.\n",
    "His method works by realizing that for a sample of $n$ chromosomes, the final tree with have $2n - 1$ nodes that we may label $[0, 2n)$. \n",
    "The first $n$ nodes correspond to the present day sample, and the remaining $n-1$ are the possible ancestors.\n",
    "\n",
    "To get a valid tree, we require:\n",
    "\n",
    "* The value at the $i^{th}$ element of the array is the index of the node ancestral to $i$.\n",
    "* The ancestor of the root node is a `NULL` value, for which we will use $-1$.\n",
    "\n",
    "For example, if the common ancestor of sample nodes 1 and 3 is node 11, then `tree[1]` and `tree[3]` will both store the value 11.\n",
    "The root node is the final value in the array, and `tree[root]` will be -1, signalling \"this node has no parent\".\n",
    "\n",
    "More generally, at any time in the past where $i$ lineages remain,\n",
    "the first $i$ nodes are represent the sample, and the remaining nodes\n",
    "are their possible parents. We wish to take a random pair from the first $i$\n",
    "nodes and assign as their parent the first of the remaining possible ancestral nodes.\n",
    "\n",
    "The algorithm is:\n",
    "\n",
    "A. *Initialization:* for a sample of size $n$:\n",
    "   * Initialize a tree, $T$, to $2n - 1$ `NULL` values of $-1$.\n",
    "   * Initialize a list of times, $T_n$, to $2n - 1$ `NULL` values of \"not a number\".\n",
    "   * Initialize a list of remaining nodes, $R$, to contain all values $[0, n)$.\n",
    "   * Set $i = n$, $t = 0$, and $X = 2\\times n$.\n",
    "\n",
    "B. Termination:\n",
    "   * If $i = 1$, end the algorithm\n",
    "   * If $i \\gt 1$, continue to step `C`.\n",
    "   \n",
    "C. *Determine the ancestor*:\n",
    "   * Set ancestor, $A$ equal to $X - i$.\n",
    "\n",
    "D. *Determine coalescence time*:\n",
    "   * Generate an exponential random deviate, $e$, using rate ${i \\choose 2},$ which equals $\\frac{i(i-1)}{2}.$\n",
    "\n",
    "E. *Update the current time*:\n",
    "   * Set $t$ equal to $t + e$.\n",
    "\n",
    "F. *Update the list of times*:\n",
    "   * Set $T_c[A]$ equal to $t$.\n",
    "    \n",
    "G. *Coalescence*: \n",
    "   * Pick two values, $j$ and $k$, uniformly and without replacement from $[0, i)$.\n",
    "   * Set $c_1$ and $c_2$ equal to the $j^{th}$ and $k^{th}$ values in $R$, respectively.\n",
    "   * Set $T[c_1]$ and $T[c_2]$ equal to $A$.\n",
    "   * Set $R[min(j,k)]$ to $A$\n",
    "   * Set $R[max(j,k)]$ to $R[i-1]$\n",
    "   * Set $i$ to $i - 1$\n",
    "\n",
    "H. *Continue*:\n",
    "   * Return to step `B`.\n",
    "\n",
    "The updating of $R$ in step `G` is the trick.\n",
    "\n",
    "The above algorithm is very straightforward to write out in Python.\n",
    "We use `numpy` arrays for efficiency."
   ]
  },
  {
   "cell_type": "code",
   "execution_count": 1,
   "id": "composite-museum",
   "metadata": {},
   "outputs": [],
   "source": [
    "import typing\n",
    "import numpy as np\n",
    "\n",
    "def h1990(nsam: int) -> typing.Tuple[np.ndarray, np.ndarray]:\n",
    "    \"\"\"\n",
    "    The linear-time algorithm of Hudson, 1990.\n",
    "\n",
    "    The citation for this algorithm is\n",
    "    Hudson, Richard R. 1990.\n",
    "    “Gene Genealogies and the Coalescent Process.”\n",
    "    Oxford Surveys in Evolutionary Biology 7 (1): 44.\n",
    "\n",
    "    Time is scaled in units of 2N generations.\n",
    "\n",
    "    :param nsam: The sample size\n",
    "    :type nsam: int\n",
    "    \n",
    "    :return: The tree and the times\n",
    "    :rtype: tuple\n",
    "    \"\"\"\n",
    "    tree = np.array([-1]*(2*nsam-1), dtype=np.int32)\n",
    "    times = np.array([np.nan]*len(tree))\n",
    "    times[0:nsam][:] = np.zeros(nsam)\n",
    "    \n",
    "    time = 0.0\n",
    "    i = nsam\n",
    "    R = np.arange(n, dtype=np.int32)\n",
    "    while i > 1:\n",
    "        # Generate time to next coalescent event,\n",
    "        # in units of 2N generations.\n",
    "        rcoal = (i*(i-1))/2.\n",
    "        tcoal = np.random.exponential(1./rcoal)\n",
    "        time += tcoal\n",
    "\n",
    "        # This is the index of the\n",
    "        # ancestor node\n",
    "        A = 2*nsam - i\n",
    "        times[A] = time\n",
    "\n",
    "        # Perform the swap steps\n",
    "        # of the algorithm\n",
    "        c = np.random.choice(i, 2, replace=False)\n",
    "        c1 = c[0]\n",
    "        c2 = c[1]\n",
    "        n1 = R[c1]\n",
    "        n2 = R[c2]\n",
    "        tree[n1] = A\n",
    "        tree[n2] = A\n",
    "        R[min(c1,c2)] = A\n",
    "        R[max(c1,c2)] = R[i-1]\n",
    "        \n",
    "        i -= 1\n",
    "\n",
    "    return (tree, times)"
   ]
  },
  {
   "cell_type": "markdown",
   "id": "measured-singapore",
   "metadata": {},
   "source": [
    "## Applications"
   ]
  },
  {
   "cell_type": "code",
   "execution_count": 2,
   "id": "threatened-companion",
   "metadata": {},
   "outputs": [],
   "source": [
    "n = 10\n",
    "nreps = 5000\n",
    "np.random.seed(54321)"
   ]
  },
  {
   "cell_type": "markdown",
   "id": "professional-exemption",
   "metadata": {},
   "source": [
    "### Time to the most recent common ancestor"
   ]
  },
  {
   "cell_type": "code",
   "execution_count": 3,
   "id": "assumed-numbers",
   "metadata": {},
   "outputs": [
    {
     "name": "stdout",
     "output_type": "stream",
     "text": [
      "1.8155560557624406\n"
     ]
    }
   ],
   "source": [
    "tmrca = 0.0\n",
    "\n",
    "for _ in range(nreps):\n",
    "    tree, times = h1990(n)\n",
    "    # What am I doing in the following line? \n",
    "    tmrca += times[-1]\n",
    "print(tmrca/nreps)"
   ]
  },
  {
   "cell_type": "markdown",
   "id": "incorrect-literacy",
   "metadata": {},
   "source": [
    "The expectation is $2\\left(1-\\frac{1}{n}\\right)$, which you can get from Wakeley, chapter 3, equation 3.24 and lots of other places:"
   ]
  },
  {
   "cell_type": "code",
   "execution_count": 4,
   "id": "exact-medication",
   "metadata": {},
   "outputs": [
    {
     "data": {
      "text/plain": [
       "1.8"
      ]
     },
     "execution_count": 4,
     "metadata": {},
     "output_type": "execute_result"
    }
   ],
   "source": [
    "2*(1 - 1/n)"
   ]
  },
  {
   "cell_type": "markdown",
   "id": "widespread-galaxy",
   "metadata": {},
   "source": [
    "### Total time on the tree\n",
    "\n",
    "Given the tree structure, we can get the total time using a linear algorithm."
   ]
  },
  {
   "cell_type": "code",
   "execution_count": 5,
   "id": "criminal-alaska",
   "metadata": {},
   "outputs": [],
   "source": [
    "ttimes = np.zeros(nreps)\n",
    "\n",
    "def get_ttime(tree: np.ndarray, times: np.ndarray) -> float:\n",
    "    ttime = 0.0\n",
    "    for i, node in enumerate(tree):\n",
    "        if node != -1:\n",
    "            branch_len = times[node] - times[i]\n",
    "            assert branch_len > 0.0, f\"{branch_len} {i} {node} {tree}\"\n",
    "            ttime += branch_len\n",
    "    return ttime\n",
    "            \n",
    "\n",
    "for i in range(nreps):\n",
    "    tree, times = h1990(n)\n",
    "    ttimes[i] = get_ttime(tree, times)"
   ]
  },
  {
   "cell_type": "markdown",
   "id": "twelve-relief",
   "metadata": {},
   "source": [
    "We get the following mean and variance from the simulations:"
   ]
  },
  {
   "cell_type": "code",
   "execution_count": 6,
   "id": "tracked-withdrawal",
   "metadata": {},
   "outputs": [
    {
     "name": "stdout",
     "output_type": "stream",
     "text": [
      "The mean total time is 5.6483\n",
      "The variance in total time is 6.1722\n"
     ]
    }
   ],
   "source": [
    "print(f\"The mean total time is {ttimes.mean():.4f}\")\n",
    "print(f\"The variance in total time is {ttimes.var():.4f}\")"
   ]
  },
  {
   "cell_type": "markdown",
   "id": "enabling-niagara",
   "metadata": {},
   "source": [
    "The analytical expectation and variance are $4\\sum_{i=1}^{n-1}\\frac{1}{i}$ and $4\\sum_{i=1}^{n-1}\\frac{1}{i^2},$ respectively:"
   ]
  },
  {
   "cell_type": "code",
   "execution_count": 7,
   "id": "formal-standing",
   "metadata": {},
   "outputs": [
    {
     "name": "stdout",
     "output_type": "stream",
     "text": [
      "The mean and variance for n=10 are (5.657936507936507, 6.159070924666163)\n"
     ]
    }
   ],
   "source": [
    "def ttime_theory(n: int) -> typing.Tuple[float, float]:\n",
    "    ett = 0.\n",
    "    for i in range(1, n):\n",
    "        ett += 1/i\n",
    "    ett *= 2.0\n",
    "    vtt = 0.\n",
    "    for i in range(1, n):\n",
    "        vtt += 1/(i**2)\n",
    "    vtt *= 4.0\n",
    "    return ett, vtt\n",
    "    \n",
    "print(f\"The mean and variance for n={n} are {ttime_theory(n)}\")"
   ]
  },
  {
   "cell_type": "markdown",
   "id": "ranking-breeding",
   "metadata": {},
   "source": [
    "### The expectation of the \"site frequency spectrum\"\n",
    "\n",
    "The expected amount of time leading to $i$ tree tips is $2/i$, in units of $2N_e$ generations.\n",
    "We can get these times using an efficient tree traversal from tips to root:"
   ]
  },
  {
   "cell_type": "code",
   "execution_count": 8,
   "id": "military-slovak",
   "metadata": {},
   "outputs": [
    {
     "data": {
      "text/plain": [
       "array([2.00032071, 0.99811249, 0.64946601, 0.49531364, 0.36766455,\n",
       "       0.32994413, 0.27466533, 0.25044209, 0.22795509])"
      ]
     },
     "execution_count": 8,
     "metadata": {},
     "output_type": "execute_result"
    }
   ],
   "source": [
    "def update_sfs_times(nsam: int, tree: np.ndarray, times: np.ndarray, sfs_times: np.ndarray) -> np.ndarray:\n",
    "    ndescendants = np.zeros(len(tree), dtype=np.int32)\n",
    "    for i in range(nsam):\n",
    "        p = i \n",
    "        while p != -1:\n",
    "            ndescendants[p] += 1\n",
    "            p = tree[p]\n",
    "    \n",
    "    for i, n in enumerate(ndescendants):\n",
    "        if tree[i] != -1:\n",
    "            sfs_times[n-1] += times[tree[i]] - times[i]\n",
    "    return sfs_times\n",
    "        \n",
    "\n",
    "sfs_times = np.zeros(n - 1)\n",
    "for i in range(nreps):\n",
    "    tree, times = h1990(n)\n",
    "    sfs_times = update_sfs_times(n, tree, times, sfs_times)\n",
    "\n",
    "sfs_times /= nreps\n",
    "sfs_times"
   ]
  },
  {
   "cell_type": "markdown",
   "id": "first-claim",
   "metadata": {},
   "source": [
    "The expectation for these bins is:"
   ]
  },
  {
   "cell_type": "code",
   "execution_count": 9,
   "id": "quick-second",
   "metadata": {},
   "outputs": [
    {
     "data": {
      "text/plain": [
       "array([2.        , 1.        , 0.66666667, 0.5       , 0.4       ,\n",
       "       0.33333333, 0.28571429, 0.25      , 0.22222222])"
      ]
     },
     "execution_count": 9,
     "metadata": {},
     "output_type": "execute_result"
    }
   ],
   "source": [
    "2./(np.arange(n-1)+1.0)"
   ]
  },
  {
   "cell_type": "markdown",
   "id": "acting-platinum",
   "metadata": {},
   "source": [
    "Now, we have the expected *time* for each bin of the `SFS`.\n",
    "If $\\theta = 4N_e\\mu$ is our scaled mutation rate, then $\\theta/2$ times each entry in the above array gives the expected number of mutations in each bin."
   ]
  }
 ],
 "metadata": {
  "jupytext": {
   "formats": "md:myst",
   "text_representation": {
    "extension": ".md",
    "format_name": "myst"
   }
  },
  "kernelspec": {
   "display_name": "Python 3",
   "language": "python",
   "name": "python3"
  },
  "language_info": {
   "codemirror_mode": {
    "name": "ipython",
    "version": 3
   },
   "file_extension": ".py",
   "mimetype": "text/x-python",
   "name": "python",
   "nbconvert_exporter": "python",
   "pygments_lexer": "ipython3",
   "version": "3.8.7"
  },
  "source_map": [
   11,
   72,
   127,
   131,
   135,
   139,
   147,
   151,
   153,
   159,
   175,
   179,
   182,
   186,
   199,
   206,
   228,
   232,
   234
  ]
 },
 "nbformat": 4,
 "nbformat_minor": 5
}