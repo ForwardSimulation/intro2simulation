{
 "cells": [
  {
   "cell_type": "markdown",
   "id": "buried-criminal",
   "metadata": {},
   "source": [
    "(coalescent_intro)=\n",
    "\n",
    "# Introduction\n",
    "\n",
    "The next several chapters discuss methods for simulating the genealogy of a sample.\n",
    "This branch of population genetics is called coalescent theory and it provides an explicit generative model for data.\n",
    "Typically, this model is a null model not involving selection, but this assumption can be relaxed to some extent.\n",
    "\n",
    "These chapters should accompany texts discussing the relevant theory.\n",
    "Examples appropriate for graduate-level courses are:\n",
    "\n",
    "* Wakeley's excellent book. {cite}`Wakeley2008-hd`.\n",
    "* Hudson's seminal 1990 review {cite}`Hudson1990-ff`\n",
    "* Nordborg's chapter in *Handbook of Statistical Genetics*. {cite}`Nordborg2004-xy`\n",
    "* Rosenberg and Nordborg's review. {cite}`Rosenberg2002-ac`\n",
    "\n",
    "## Factors of two\n",
    "\n",
    "A constant source of confusion to people learning about coalescent models has to do with time scaling.\n",
    "As discussed in the references above, time is measured in continuous units with respect to the (effective) population size.\n",
    "Thus, we may say that an event occurred $\\tau = \\frac{g}{2N_e}$ time units ago, where $g$ is the number of generations.\n",
    "Here, $\\tau$ is a measure of time in units of $2N_e$ generations.\n",
    "\n",
    "Sadly, factors of two are casually ignored, omitted, or forgotten about entirely when explaining the meaning of analytical expressions or how various software tools work.\n",
    "To the best of my ability, all time units presented here will be in units of $2N_e$ generations.\n",
    "This scaling differs from how Hudson's `ms` program ({cite}`Hudson2002-oo`), which itself differs from Kelleher *et al.*'s `msprime` ({cite}`Kelleher2016-cb`).\n",
    "We will make note of differences in scaling as necessary.\n",
    "\n",
    "## Representing trees\n",
    "\n",
    "The tree shown below was generated using [msprime](https://msprime.readthedocs.io) ({cite}`Kelleher2016-cb`,{cite}`Kelleher2020-zf`)\n",
    "We will discuss this software in later chapters.\n",
    "\n",
    "This tree is a random sample from the Kingman coalescent.\n",
    "This tree shows the ancestral history of a present-day sample of $n = 5$ randomly-chosen samples.\n",
    "Each node on the tree (small black circles) are labelled with `id: (time, parent id)`.\n",
    "The `id` is an *index* that uniquely identifies each node.\n",
    "\n",
    "This tree has the following properties:\n",
    "\n",
    "* Our present-day samples have `id` values from $[0, n)$.\n",
    "* Teach present-day node has a time of 0.\n",
    "* Time increases into the past.\n",
    "* Time is measured in units of $N_e$ generations.\n",
    "  Note: not $2N_e$!!!\n",
    "* There are a total of $2n - 1$ nodes.\n",
    "* The root node has `id` 8.\n",
    "  The parent `id` of this node has a value of -1, which we interpret as `NULL`.\n",
    "  This `NULL` indicates that there is no parent, thus indicating that this is a root node."
   ]
  },
  {
   "cell_type": "code",
   "execution_count": 1,
   "id": "normal-classics",
   "metadata": {
    "tags": [
     "hide-input"
    ]
   },
   "outputs": [
    {
     "data": {
      "image/svg+xml": [
       "<svg xmlns=\"http://www.w3.org/2000/svg\" xmlns:ev=\"http://www.w3.org/2001/xml-events\" xmlns:xlink=\"http://www.w3.org/1999/xlink\" baseProfile=\"full\" height=\"300\" version=\"1.1\" width=\"500\"><defs><style type=\"text/css\"><![CDATA[.axis {font-weight: bold}.tree, .axis {font-size: 14px; text-anchor:middle}.edge {stroke: black; fill: none}.node > .sym {fill: black; stroke: none}.tree text {dominant-baseline: middle}.tree .lab.lft {text-anchor: end}.tree .lab.rgt {text-anchor: start}.mut {fill: red; font-style: italic}]]></style></defs><g class=\"tree t0\"><g class=\"node n8 p0 root\" transform=\"translate(240.0 30.0)\"><g class=\"a8 node n5 p0\" transform=\"translate(-110.0 232.171)\"><g class=\"a5 leaf node n0 p0 sample\" transform=\"translate(-40.0 7.8295)\"><path class=\"edge\" d=\"M 0 0 V -7.8295 H 40.0\"/><circle class=\"sym\" cx=\"0\" cy=\"0\" r=\"3\"/><text class=\"lab\" transform=\"translate(0 12)\">0: (0.00, 5)</text></g><g class=\"a5 leaf node n2 p0 sample\" transform=\"translate(40.0 7.8295)\"><path class=\"edge\" d=\"M 0 0 V -7.8295 H -40.0\"/><circle class=\"sym\" cx=\"0\" cy=\"0\" r=\"3\"/><text class=\"lab\" transform=\"translate(0 12)\">2: (0.00, 5)</text></g><path class=\"edge\" d=\"M 0 0 V -232.171 H 110.0\"/><circle class=\"sym\" cx=\"0\" cy=\"0\" r=\"3\"/><text class=\"lab lft\" transform=\"translate(-3 -6)\">5: (0.20, 8)</text></g><g class=\"a8 node n7 p0\" transform=\"translate(110.0 204.739)\"><g class=\"a7 leaf node n4 p0 sample\" transform=\"translate(60.0 35.2609)\"><path class=\"edge\" d=\"M 0 0 V -35.2609 H -60.0\"/><circle class=\"sym\" cx=\"0\" cy=\"0\" r=\"3\"/><text class=\"lab\" transform=\"translate(0 12)\">4: (0.00, 7)</text></g><g class=\"a7 node n6 p0\" transform=\"translate(-60.0 10.6039)\"><g class=\"a6 leaf node n1 p0 sample\" transform=\"translate(-40.0 24.657)\"><path class=\"edge\" d=\"M 0 0 V -24.657 H 40.0\"/><circle class=\"sym\" cx=\"0\" cy=\"0\" r=\"3\"/><text class=\"lab\" transform=\"translate(0 12)\">1: (0.00, 6)</text></g><g class=\"a6 leaf node n3 p0 sample\" transform=\"translate(40.0 24.657)\"><path class=\"edge\" d=\"M 0 0 V -24.657 H -40.0\"/><circle class=\"sym\" cx=\"0\" cy=\"0\" r=\"3\"/><text class=\"lab\" transform=\"translate(0 12)\">3: (0.00, 6)</text></g><path class=\"edge\" d=\"M 0 0 V -10.6039 H 60.0\"/><circle class=\"sym\" cx=\"0\" cy=\"0\" r=\"3\"/><text class=\"lab lft\" transform=\"translate(-3 -6)\">6: (0.62, 7)</text></g><path class=\"edge\" d=\"M 0 0 V -204.739 H -110.0\"/><circle class=\"sym\" cx=\"0\" cy=\"0\" r=\"3\"/><text class=\"lab rgt\" transform=\"translate(3 -6)\">7: (0.89, 8)</text></g><circle class=\"sym\" cx=\"0\" cy=\"0\" r=\"3\"/><text class=\"lab\" transform=\"translate(0 -10)\">8: (6.04, -1)</text></g></g></svg>"
      ],
      "text/plain": [
       "<IPython.core.display.SVG object>"
      ]
     },
     "execution_count": 1,
     "metadata": {
      "filenames": {
       "image/svg+xml": "/home/runner/work/intro2simulation/intro2simulation/_build/jupyter_execute/md/coalescent_intro_1_0.svg"
      }
     },
     "output_type": "execute_result"
    }
   ],
   "source": [
    "import msprime\n",
    "import pandas as pd\n",
    "from IPython.display import SVG\n",
    "\n",
    "ts = msprime.simulate(5, random_seed=987632)\n",
    "t = ts.first()\n",
    "nodes = sorted([i for i in t.nodes()])\n",
    "df = pd.DataFrame({\"parent\": [t.parent(i) for i in nodes],\n",
    "                   \"time\": [ts.tables.nodes.time[i] for i in nodes]})\n",
    "df.index.name = \"node\"\n",
    "node_labels = {i: f\"{i}: ({ts.tables.nodes.time[i]:.2f}, {t.parent(i)})\" for i in nodes}\n",
    "SVG(t.draw(format=\"svg\",height=300, width=500, node_labels=node_labels))"
   ]
  },
  {
   "cell_type": "markdown",
   "id": "typical-cradle",
   "metadata": {},
   "source": [
    "For reasons of computational efficiency, it is convenient to represent these tree structures as a collection of arrays.\n",
    "These collections describe a tree in a table-like format:"
   ]
  },
  {
   "cell_type": "code",
   "execution_count": 2,
   "id": "grand-lecture",
   "metadata": {
    "tags": [
     "hide-input"
    ]
   },
   "outputs": [
    {
     "data": {
      "text/html": [
       "<div>\n",
       "<style scoped>\n",
       "    .dataframe tbody tr th:only-of-type {\n",
       "        vertical-align: middle;\n",
       "    }\n",
       "\n",
       "    .dataframe tbody tr th {\n",
       "        vertical-align: top;\n",
       "    }\n",
       "\n",
       "    .dataframe thead th {\n",
       "        text-align: right;\n",
       "    }\n",
       "</style>\n",
       "<table border=\"1\" class=\"dataframe\">\n",
       "  <thead>\n",
       "    <tr style=\"text-align: right;\">\n",
       "      <th></th>\n",
       "      <th>parent</th>\n",
       "      <th>time</th>\n",
       "    </tr>\n",
       "    <tr>\n",
       "      <th>node</th>\n",
       "      <th></th>\n",
       "      <th></th>\n",
       "    </tr>\n",
       "  </thead>\n",
       "  <tbody>\n",
       "    <tr>\n",
       "      <th>0</th>\n",
       "      <td>5</td>\n",
       "      <td>0.000000</td>\n",
       "    </tr>\n",
       "    <tr>\n",
       "      <th>1</th>\n",
       "      <td>6</td>\n",
       "      <td>0.000000</td>\n",
       "    </tr>\n",
       "    <tr>\n",
       "      <th>2</th>\n",
       "      <td>5</td>\n",
       "      <td>0.000000</td>\n",
       "    </tr>\n",
       "    <tr>\n",
       "      <th>3</th>\n",
       "      <td>6</td>\n",
       "      <td>0.000000</td>\n",
       "    </tr>\n",
       "    <tr>\n",
       "      <th>4</th>\n",
       "      <td>7</td>\n",
       "      <td>0.000000</td>\n",
       "    </tr>\n",
       "    <tr>\n",
       "      <th>5</th>\n",
       "      <td>8</td>\n",
       "      <td>0.197092</td>\n",
       "    </tr>\n",
       "    <tr>\n",
       "      <th>6</th>\n",
       "      <td>7</td>\n",
       "      <td>0.620690</td>\n",
       "    </tr>\n",
       "    <tr>\n",
       "      <th>7</th>\n",
       "      <td>8</td>\n",
       "      <td>0.887622</td>\n",
       "    </tr>\n",
       "    <tr>\n",
       "      <th>8</th>\n",
       "      <td>-1</td>\n",
       "      <td>6.041521</td>\n",
       "    </tr>\n",
       "  </tbody>\n",
       "</table>\n",
       "</div>"
      ],
      "text/plain": [
       "      parent      time\n",
       "node                  \n",
       "0          5  0.000000\n",
       "1          6  0.000000\n",
       "2          5  0.000000\n",
       "3          6  0.000000\n",
       "4          7  0.000000\n",
       "5          8  0.197092\n",
       "6          7  0.620690\n",
       "7          8  0.887622\n",
       "8         -1  6.041521"
      ]
     },
     "execution_count": 2,
     "metadata": {},
     "output_type": "execute_result"
    }
   ],
   "source": [
    "df"
   ]
  },
  {
   "cell_type": "markdown",
   "id": "everyday-injury",
   "metadata": {},
   "source": [
    "For a given sample size, we need arrays of length $2n - 1$.\n",
    "We use the `id` of a node to index these arrays, allowing efficient lookup of a node's `parent` or `time`.\n",
    "\n",
    "These indexed tables are the basis for efficient algorithms on the trees.\n",
    "The table shown above allows convenient traversal from any node back to the root.\n",
    "For example, consider the node with `id` 1.\n",
    "From the above table, that node's `parent` is 6.\n",
    "The `parent` of 6 is 7.\n",
    "The `parent` of 7 is 8, which is the root.\n",
    "\n",
    "We can write this algorithm as follows:"
   ]
  },
  {
   "cell_type": "code",
   "execution_count": 3,
   "id": "parallel-cargo",
   "metadata": {},
   "outputs": [],
   "source": [
    "import typing\n",
    "\n",
    "def path_to_root(node: int, tree: typing.List[int]) -> typing.List[int]:\n",
    "    u = tree[node];\n",
    "    path = []\n",
    "    while u != -1:\n",
    "        path.append(u)\n",
    "        u = tree[u]\n",
    "    return path"
   ]
  },
  {
   "cell_type": "markdown",
   "id": "intellectual-colonial",
   "metadata": {},
   "source": [
    "Applying it to node 1 gives:"
   ]
  },
  {
   "cell_type": "code",
   "execution_count": 4,
   "id": "alternative-board",
   "metadata": {
    "tags": [
     "hide-input"
    ]
   },
   "outputs": [
    {
     "data": {
      "text/plain": [
       "[6, 7, 8]"
      ]
     },
     "execution_count": 4,
     "metadata": {},
     "output_type": "execute_result"
    }
   ],
   "source": [
    "path_from_1 = path_to_root(1, df.parent.tolist())\n",
    "path_from_1"
   ]
  }
 ],
 "metadata": {
  "jupytext": {
   "formats": "md:myst",
   "text_representation": {
    "extension": ".md",
    "format_name": "myst"
   }
  },
  "kernelspec": {
   "display_name": "Python 3",
   "language": "python",
   "name": "python3"
  },
  "language_info": {
   "codemirror_mode": {
    "name": "ipython",
    "version": 3
   },
   "file_extension": ".py",
   "mimetype": "text/x-python",
   "name": "python",
   "nbconvert_exporter": "python",
   "pygments_lexer": "ipython3",
   "version": "3.8.7"
  },
  "source_map": [
   11,
   63,
   79,
   84,
   89,
   103,
   113,
   117
  ]
 },
 "nbformat": 4,
 "nbformat_minor": 5
}